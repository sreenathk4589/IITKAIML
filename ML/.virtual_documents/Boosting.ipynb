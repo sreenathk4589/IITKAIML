import pandas as pd
import numpy as np
import matplotlib.pyplot as plt


from sklearn.ensemble import RandomForestClassifier
from sklearn.model_selection import RandomizedSearchCV, train_test_split
from sklearn.preprocessing import StandardScaler


from sklearn.pipeline import Pipeline
from sklearn.impute import SimpleImputer
from sklearn.compose import ColumnTransformer


from sklearn.preprocessing import OneHotEncoder


from xgboost import XGBRegressor


housing = pd.read_excel('housing.xlsx')


housing


housing.isna().sum()


num_cols = housing.select_dtypes(exclude='O').columns


cat_cols = housing.select_dtypes(include='O').columns


si = SimpleImputer(strategy='median')


num_cols_imputed = si.fit_transform(housing[num_cols])


ss = StandardScaler()


num_cols_imputed_std = ss.fit_transform(num_cols_imputed)


np.shape(num_cols_imputed_std)


pd.DataFrame(num_cols_imputed).isna().sum()


oe = OneHotEncoder()


cat_cols_oe = oe.fit_transform(housing[cat_cols])


np.shape(cat_cols_oe)


num_cols_imputed


housing_final = [num_cols_imputed, cat_cols_oe]


housing_final


cat_cols_oe


xgb=XGBRegressor()


xgb.fit(pd.DataFrame(num_cols_imputed), pd.DataFrame(cat_cols_oe))



