from sklearn.datasets import load_breast_cancer
import pandas  as pd


lbc = load_breast_cancer()


bc = pd.DataFrame(lbc.data, columns=lbc.feature_names)


bc['target'] = lbc.target


from sklearn.decomposition import PCA


from sklearn.preprocessing import StandardScaler
ss= StandardScaler()


X_std = ss.fit_transform(bc.drop(columns = 'target'))


X_std.shape


bc.drop(columns='target').shape


X_std.var(axis=0).sum()


pca = PCA()


comp = pca.fit_transform(X_std)


comp.shape


pd.DataFrame(comp, columns=['PC'+str(i) for i in range(30)])


comp.var(axis=0)


pca.explained_variance_


pca.explained_variance_ratio_


((pca.explained_variance_ratio_)*100).cumsum()


pca_aa = PCA(n_components=7)


comp_aa = pca_aa.fit_transform(X_std)


comp_aa.shape


pd.DataFrame(comp_aa, columns=['PC'+str(i) for i in range(7)])


universities = pd.read_csv('Universities.csv')


universities


from sklearn.preprocessing import StandardScaler
from sklearn.impute import SimpleImputer


ss = StandardScaler()
si = SimpleImputer(strategy='most_frequent')


universities_imputed = si.fit_transform(universities.drop(columns=['College Name', 'State']))
univ_num = universities_imputed[2:]


univ_std = ss.fit_transform(universities_imputed)


univ_std


from sklearn.cluster import KMeans


for i in range(1, 100):
    kmeans = KMeans(n_clusters=1)
    kmeans.fit(univ_std)
    print(kmeans.inertia_)


import matplotlib.pyplot as plt


plt.figure(figsize=(10,4))
plt.plot(range(1, len(univ_std)), Errors, marker = 'o')
plt.xticks(range(1, ln(univ)))
plt.show()



