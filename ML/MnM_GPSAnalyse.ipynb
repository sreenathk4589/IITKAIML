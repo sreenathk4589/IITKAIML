{
 "cells": [
  {
   "cell_type": "code",
   "execution_count": null,
   "id": "3a0a3d90-43c6-4ca1-9bb2-9af54931debf",
   "metadata": {},
   "outputs": [],
   "source": [
    "import pyshark as ps"
   ]
  },
  {
   "cell_type": "code",
   "execution_count": null,
   "id": "340be96e-d4f9-4c62-812a-9ac731aeeca2",
   "metadata": {},
   "outputs": [],
   "source": [
    "def GPSCheck(testFileNameFullPath, RefFileNameFullPath='\\0'):\n",
    "    print(testFileNameFullPath)\n",
    "    TestData = ps.FileCapture(testFileNameFullPath);\n",
    "    for pkt in TestData:\n",
    "        print(pkt)\n",
    "    # print(TestData[0]);\n",
    "    # RefData  = 0;\n",
    "    # if(RefFileNameFullPath ~= '\\0'):\n",
    "    #     RefData = ps.FileCapture(RefFileNameFullPath);"
   ]
  },
  {
   "cell_type": "code",
   "execution_count": null,
   "id": "25d03aba-b972-494b-a2de-60828cbb06a6",
   "metadata": {},
   "outputs": [],
   "source": [
    "TestData.close"
   ]
  },
  {
   "cell_type": "code",
   "execution_count": null,
   "id": "b73256d5-a3e1-4578-9692-344547b26aa4",
   "metadata": {},
   "outputs": [],
   "source": [
    "# GPSCheck('D:\\gps.pcap')\n",
    "TestData = ps.FileCapture('gps.pcap');\n",
    "for pkt in TestData:\n",
    "    pass"
   ]
  },
  {
   "cell_type": "code",
   "execution_count": 62,
   "id": "5263ccec-b7e1-4232-a74c-0b0197a31afe",
   "metadata": {},
   "outputs": [
    {
     "name": "stdout",
     "output_type": "stream",
     "text": [
      "2024-06-03 19:02:42,730 - FileCapture - DEBUG - Creating TShark subprocess with parameters: C:/Program Files (x86)/Wireshark/tshark.exe -l -n -T pdml -r gps.pcap\n",
      "2024-06-03 19:02:42,730 - FileCapture - DEBUG - Creating TShark subprocess with parameters: C:/Program Files (x86)/Wireshark/tshark.exe -l -n -T pdml -r gps.pcap\n",
      "2024-06-03 19:02:42,730 - FileCapture - DEBUG - Executable: C:/Program Files (x86)/Wireshark/tshark.exe\n",
      "2024-06-03 19:02:42,730 - FileCapture - DEBUG - Executable: C:/Program Files (x86)/Wireshark/tshark.exe\n",
      "2024-06-03 19:02:42,771 - FileCapture - DEBUG - TShark subprocess (pid 18980) created\n",
      "2024-06-03 19:02:42,771 - FileCapture - DEBUG - TShark subprocess (pid 18980) created\n",
      "2024-06-03 19:02:47,952 - FileCapture - DEBUG - tshark: The file \"gps.pcap\" appears to have been cut short in the middle of a packet.\n",
      "2024-06-03 19:02:47,952 - FileCapture - DEBUG - tshark: The file \"gps.pcap\" appears to have been cut short in the middle of a packet.\n",
      "2024-06-03 19:02:47,957 - FileCapture - DEBUG - EOF reached (sync)\n",
      "2024-06-03 19:02:47,957 - FileCapture - DEBUG - EOF reached (sync)\n",
      "2024-06-03 19:02:47,957 - FileCapture - DEBUG - Cleanup Subprocess (pid 18980)\n",
      "2024-06-03 19:02:47,957 - FileCapture - DEBUG - Cleanup Subprocess (pid 18980)\n"
     ]
    },
    {
     "ename": "TSharkCrashException",
     "evalue": "TShark (pid 18980) seems to have crashed (retcode: 2).\nLast error line: tshark: The file \"gps.pcap\" appears to have been cut short in the middle of a packet.\nTry rerunning in debug mode [ capture_obj.set_debug() ] or try updating tshark.",
     "output_type": "error",
     "traceback": [
      "\u001b[1;31m---------------------------------------------------------------------------\u001b[0m",
      "\u001b[1;31mTSharkCrashException\u001b[0m                      Traceback (most recent call last)",
      "Cell \u001b[1;32mIn[62], line 44\u001b[0m\n\u001b[0;32m     41\u001b[0m         \u001b[38;5;28mprint\u001b[39m(\u001b[38;5;124mf\u001b[39m\u001b[38;5;124m\"\u001b[39m\u001b[38;5;124mPacket \u001b[39m\u001b[38;5;132;01m{\u001b[39;00mi\u001b[38;5;132;01m}\u001b[39;00m\u001b[38;5;124m: \u001b[39m\u001b[38;5;132;01m{\u001b[39;00mpacket\u001b[38;5;132;01m}\u001b[39;00m\u001b[38;5;124m\"\u001b[39m)\n\u001b[0;32m     43\u001b[0m \u001b[38;5;28;01mif\u001b[39;00m \u001b[38;5;18m__name__\u001b[39m \u001b[38;5;241m==\u001b[39m \u001b[38;5;124m\"\u001b[39m\u001b[38;5;124m__main__\u001b[39m\u001b[38;5;124m\"\u001b[39m:\n\u001b[1;32m---> 44\u001b[0m     main()\n",
      "Cell \u001b[1;32mIn[62], line 37\u001b[0m, in \u001b[0;36mmain\u001b[1;34m()\u001b[0m\n\u001b[0;32m     35\u001b[0m \u001b[38;5;66;03m# Use asyncio to run the extract_gps_packets coroutine\u001b[39;00m\n\u001b[0;32m     36\u001b[0m loop \u001b[38;5;241m=\u001b[39m asyncio\u001b[38;5;241m.\u001b[39mget_event_loop()\n\u001b[1;32m---> 37\u001b[0m gps_packets \u001b[38;5;241m=\u001b[39m loop\u001b[38;5;241m.\u001b[39mrun_until_complete(extract_gps_packets(pcap_file))\n\u001b[0;32m     39\u001b[0m \u001b[38;5;66;03m# Output the GPS packets\u001b[39;00m\n\u001b[0;32m     40\u001b[0m \u001b[38;5;28;01mfor\u001b[39;00m i, packet \u001b[38;5;129;01min\u001b[39;00m \u001b[38;5;28menumerate\u001b[39m(gps_packets):\n",
      "File \u001b[1;32m~\\AppData\\Local\\anaconda31\\Lib\\site-packages\\nest_asyncio.py:98\u001b[0m, in \u001b[0;36m_patch_loop.<locals>.run_until_complete\u001b[1;34m(self, future)\u001b[0m\n\u001b[0;32m     95\u001b[0m \u001b[38;5;28;01mif\u001b[39;00m \u001b[38;5;129;01mnot\u001b[39;00m f\u001b[38;5;241m.\u001b[39mdone():\n\u001b[0;32m     96\u001b[0m     \u001b[38;5;28;01mraise\u001b[39;00m \u001b[38;5;167;01mRuntimeError\u001b[39;00m(\n\u001b[0;32m     97\u001b[0m         \u001b[38;5;124m'\u001b[39m\u001b[38;5;124mEvent loop stopped before Future completed.\u001b[39m\u001b[38;5;124m'\u001b[39m)\n\u001b[1;32m---> 98\u001b[0m \u001b[38;5;28;01mreturn\u001b[39;00m f\u001b[38;5;241m.\u001b[39mresult()\n",
      "File \u001b[1;32m~\\AppData\\Local\\anaconda31\\Lib\\asyncio\\futures.py:203\u001b[0m, in \u001b[0;36mFuture.result\u001b[1;34m(self)\u001b[0m\n\u001b[0;32m    201\u001b[0m \u001b[38;5;28mself\u001b[39m\u001b[38;5;241m.\u001b[39m__log_traceback \u001b[38;5;241m=\u001b[39m \u001b[38;5;28;01mFalse\u001b[39;00m\n\u001b[0;32m    202\u001b[0m \u001b[38;5;28;01mif\u001b[39;00m \u001b[38;5;28mself\u001b[39m\u001b[38;5;241m.\u001b[39m_exception \u001b[38;5;129;01mis\u001b[39;00m \u001b[38;5;129;01mnot\u001b[39;00m \u001b[38;5;28;01mNone\u001b[39;00m:\n\u001b[1;32m--> 203\u001b[0m     \u001b[38;5;28;01mraise\u001b[39;00m \u001b[38;5;28mself\u001b[39m\u001b[38;5;241m.\u001b[39m_exception\u001b[38;5;241m.\u001b[39mwith_traceback(\u001b[38;5;28mself\u001b[39m\u001b[38;5;241m.\u001b[39m_exception_tb)\n\u001b[0;32m    204\u001b[0m \u001b[38;5;28;01mreturn\u001b[39;00m \u001b[38;5;28mself\u001b[39m\u001b[38;5;241m.\u001b[39m_result\n",
      "File \u001b[1;32m~\\AppData\\Local\\anaconda31\\Lib\\asyncio\\tasks.py:277\u001b[0m, in \u001b[0;36mTask.__step\u001b[1;34m(***failed resolving arguments***)\u001b[0m\n\u001b[0;32m    273\u001b[0m \u001b[38;5;28;01mtry\u001b[39;00m:\n\u001b[0;32m    274\u001b[0m     \u001b[38;5;28;01mif\u001b[39;00m exc \u001b[38;5;129;01mis\u001b[39;00m \u001b[38;5;28;01mNone\u001b[39;00m:\n\u001b[0;32m    275\u001b[0m         \u001b[38;5;66;03m# We use the `send` method directly, because coroutines\u001b[39;00m\n\u001b[0;32m    276\u001b[0m         \u001b[38;5;66;03m# don't have `__iter__` and `__next__` methods.\u001b[39;00m\n\u001b[1;32m--> 277\u001b[0m         result \u001b[38;5;241m=\u001b[39m coro\u001b[38;5;241m.\u001b[39msend(\u001b[38;5;28;01mNone\u001b[39;00m)\n\u001b[0;32m    278\u001b[0m     \u001b[38;5;28;01melse\u001b[39;00m:\n\u001b[0;32m    279\u001b[0m         result \u001b[38;5;241m=\u001b[39m coro\u001b[38;5;241m.\u001b[39mthrow(exc)\n",
      "Cell \u001b[1;32mIn[62], line 14\u001b[0m, in \u001b[0;36mextract_gps_packets\u001b[1;34m(pcap_file)\u001b[0m\n\u001b[0;32m     12\u001b[0m gps_packets \u001b[38;5;241m=\u001b[39m []\n\u001b[0;32m     13\u001b[0m capture\u001b[38;5;241m.\u001b[39mset_debug();\n\u001b[1;32m---> 14\u001b[0m \u001b[38;5;28;01mfor\u001b[39;00m packet \u001b[38;5;129;01min\u001b[39;00m capture:\n\u001b[0;32m     15\u001b[0m     \u001b[38;5;66;03m# print(len(packet))\u001b[39;00m\n\u001b[0;32m     16\u001b[0m     \u001b[38;5;28;01mtry\u001b[39;00m:\n\u001b[0;32m     17\u001b[0m         \u001b[38;5;66;03m# Check if the packet is cut-off by verifying the presence of a field\u001b[39;00m\n\u001b[0;32m     18\u001b[0m         \u001b[38;5;66;03m# Adjust the field based on the actual details of GPS data in your PCAP file\u001b[39;00m\n\u001b[0;32m     19\u001b[0m         \u001b[38;5;28;01mif\u001b[39;00m \u001b[38;5;124m'\u001b[39m\u001b[38;5;124mcohda.gps.posacc.semi_major_orientation\u001b[39m\u001b[38;5;124m'\u001b[39m \u001b[38;5;129;01min\u001b[39;00m packet:\n\u001b[0;32m     20\u001b[0m             \u001b[38;5;66;03m# If this specific field is missing, the packet might be cut-off\u001b[39;00m\n",
      "File \u001b[1;32m~\\AppData\\Local\\anaconda31\\Lib\\site-packages\\pyshark\\capture\\capture.py:237\u001b[0m, in \u001b[0;36mCapture._packets_from_tshark_sync\u001b[1;34m(self, packet_count, existing_process)\u001b[0m\n\u001b[0;32m    235\u001b[0m \u001b[38;5;28;01mfinally\u001b[39;00m:\n\u001b[0;32m    236\u001b[0m     \u001b[38;5;28;01mif\u001b[39;00m tshark_process \u001b[38;5;129;01min\u001b[39;00m \u001b[38;5;28mself\u001b[39m\u001b[38;5;241m.\u001b[39m_running_processes:\n\u001b[1;32m--> 237\u001b[0m         \u001b[38;5;28mself\u001b[39m\u001b[38;5;241m.\u001b[39meventloop\u001b[38;5;241m.\u001b[39mrun_until_complete(\n\u001b[0;32m    238\u001b[0m             \u001b[38;5;28mself\u001b[39m\u001b[38;5;241m.\u001b[39m_cleanup_subprocess(tshark_process))\n",
      "File \u001b[1;32m~\\AppData\\Local\\anaconda31\\Lib\\site-packages\\nest_asyncio.py:98\u001b[0m, in \u001b[0;36m_patch_loop.<locals>.run_until_complete\u001b[1;34m(self, future)\u001b[0m\n\u001b[0;32m     95\u001b[0m \u001b[38;5;28;01mif\u001b[39;00m \u001b[38;5;129;01mnot\u001b[39;00m f\u001b[38;5;241m.\u001b[39mdone():\n\u001b[0;32m     96\u001b[0m     \u001b[38;5;28;01mraise\u001b[39;00m \u001b[38;5;167;01mRuntimeError\u001b[39;00m(\n\u001b[0;32m     97\u001b[0m         \u001b[38;5;124m'\u001b[39m\u001b[38;5;124mEvent loop stopped before Future completed.\u001b[39m\u001b[38;5;124m'\u001b[39m)\n\u001b[1;32m---> 98\u001b[0m \u001b[38;5;28;01mreturn\u001b[39;00m f\u001b[38;5;241m.\u001b[39mresult()\n",
      "File \u001b[1;32m~\\AppData\\Local\\anaconda31\\Lib\\asyncio\\futures.py:203\u001b[0m, in \u001b[0;36mFuture.result\u001b[1;34m(self)\u001b[0m\n\u001b[0;32m    201\u001b[0m \u001b[38;5;28mself\u001b[39m\u001b[38;5;241m.\u001b[39m__log_traceback \u001b[38;5;241m=\u001b[39m \u001b[38;5;28;01mFalse\u001b[39;00m\n\u001b[0;32m    202\u001b[0m \u001b[38;5;28;01mif\u001b[39;00m \u001b[38;5;28mself\u001b[39m\u001b[38;5;241m.\u001b[39m_exception \u001b[38;5;129;01mis\u001b[39;00m \u001b[38;5;129;01mnot\u001b[39;00m \u001b[38;5;28;01mNone\u001b[39;00m:\n\u001b[1;32m--> 203\u001b[0m     \u001b[38;5;28;01mraise\u001b[39;00m \u001b[38;5;28mself\u001b[39m\u001b[38;5;241m.\u001b[39m_exception\u001b[38;5;241m.\u001b[39mwith_traceback(\u001b[38;5;28mself\u001b[39m\u001b[38;5;241m.\u001b[39m_exception_tb)\n\u001b[0;32m    204\u001b[0m \u001b[38;5;28;01mreturn\u001b[39;00m \u001b[38;5;28mself\u001b[39m\u001b[38;5;241m.\u001b[39m_result\n",
      "File \u001b[1;32m~\\AppData\\Local\\anaconda31\\Lib\\asyncio\\tasks.py:277\u001b[0m, in \u001b[0;36mTask.__step\u001b[1;34m(***failed resolving arguments***)\u001b[0m\n\u001b[0;32m    273\u001b[0m \u001b[38;5;28;01mtry\u001b[39;00m:\n\u001b[0;32m    274\u001b[0m     \u001b[38;5;28;01mif\u001b[39;00m exc \u001b[38;5;129;01mis\u001b[39;00m \u001b[38;5;28;01mNone\u001b[39;00m:\n\u001b[0;32m    275\u001b[0m         \u001b[38;5;66;03m# We use the `send` method directly, because coroutines\u001b[39;00m\n\u001b[0;32m    276\u001b[0m         \u001b[38;5;66;03m# don't have `__iter__` and `__next__` methods.\u001b[39;00m\n\u001b[1;32m--> 277\u001b[0m         result \u001b[38;5;241m=\u001b[39m coro\u001b[38;5;241m.\u001b[39msend(\u001b[38;5;28;01mNone\u001b[39;00m)\n\u001b[0;32m    278\u001b[0m     \u001b[38;5;28;01melse\u001b[39;00m:\n\u001b[0;32m    279\u001b[0m         result \u001b[38;5;241m=\u001b[39m coro\u001b[38;5;241m.\u001b[39mthrow(exc)\n",
      "File \u001b[1;32m~\\AppData\\Local\\anaconda31\\Lib\\site-packages\\pyshark\\capture\\capture.py:379\u001b[0m, in \u001b[0;36mCapture._cleanup_subprocess\u001b[1;34m(self, process)\u001b[0m\n\u001b[0;32m    377\u001b[0m \u001b[38;5;28;01melif\u001b[39;00m process\u001b[38;5;241m.\u001b[39mreturncode \u001b[38;5;241m>\u001b[39m \u001b[38;5;241m0\u001b[39m:\n\u001b[0;32m    378\u001b[0m     \u001b[38;5;28;01mif\u001b[39;00m process\u001b[38;5;241m.\u001b[39mreturncode \u001b[38;5;241m!=\u001b[39m \u001b[38;5;241m1\u001b[39m \u001b[38;5;129;01mor\u001b[39;00m \u001b[38;5;28mself\u001b[39m\u001b[38;5;241m.\u001b[39m_eof_reached:\n\u001b[1;32m--> 379\u001b[0m         \u001b[38;5;28;01mraise\u001b[39;00m TSharkCrashException(\u001b[38;5;124mf\u001b[39m\u001b[38;5;124m\"\u001b[39m\u001b[38;5;124mTShark (pid \u001b[39m\u001b[38;5;132;01m{\u001b[39;00mprocess\u001b[38;5;241m.\u001b[39mpid\u001b[38;5;132;01m}\u001b[39;00m\u001b[38;5;124m) seems to have crashed (retcode: \u001b[39m\u001b[38;5;132;01m{\u001b[39;00mprocess\u001b[38;5;241m.\u001b[39mreturncode\u001b[38;5;132;01m}\u001b[39;00m\u001b[38;5;124m).\u001b[39m\u001b[38;5;130;01m\\n\u001b[39;00m\u001b[38;5;124m\"\u001b[39m\n\u001b[0;32m    380\u001b[0m                                    \u001b[38;5;124mf\u001b[39m\u001b[38;5;124m\"\u001b[39m\u001b[38;5;124mLast error line: \u001b[39m\u001b[38;5;132;01m{\u001b[39;00m\u001b[38;5;28mself\u001b[39m\u001b[38;5;241m.\u001b[39m_last_error_line\u001b[38;5;132;01m}\u001b[39;00m\u001b[38;5;130;01m\\n\u001b[39;00m\u001b[38;5;124m\"\u001b[39m\n\u001b[0;32m    381\u001b[0m                                    \u001b[38;5;124m\"\u001b[39m\u001b[38;5;124mTry rerunning in debug mode [ capture_obj.set_debug() ] or try updating tshark.\u001b[39m\u001b[38;5;124m\"\u001b[39m)\n",
      "\u001b[1;31mTSharkCrashException\u001b[0m: TShark (pid 18980) seems to have crashed (retcode: 2).\nLast error line: tshark: The file \"gps.pcap\" appears to have been cut short in the middle of a packet.\nTry rerunning in debug mode [ capture_obj.set_debug() ] or try updating tshark."
     ]
    }
   ],
   "source": [
    "import pyshark\n",
    "import asyncio\n",
    "import nest_asyncio\n",
    "\n",
    "# Apply nest_asyncio to allow nested event loops\n",
    "nest_asyncio.apply()\n",
    "\n",
    "async def extract_gps_packets(pcap_file):\n",
    "    # Open the pcap file\n",
    "    capture = pyshark.FileCapture(pcap_file, debug=True,)\n",
    "    \n",
    "    gps_packets = []\n",
    "    capture.set_debug();\n",
    "    for packet in capture:\n",
    "        # print(len(packet))\n",
    "        try:\n",
    "            # Check if the packet is cut-off by verifying the presence of a field\n",
    "            # Adjust the field based on the actual details of GPS data in your PCAP file\n",
    "            if 'cohda.gps.posacc.semi_major_orientation' in packet:\n",
    "                # If this specific field is missing, the packet might be cut-off\n",
    "                if hasattr(packet, 'cohda.gps.posacc.semi_major_axis'):  # Replace 'nmea_field' with the actual field name\n",
    "                    gps_packets.append(packet)\n",
    "                else:\n",
    "                    print(f\"Ignoring incomplete packet: {packet}\")\n",
    "        except Exception as e:\n",
    "            # Ignore any packet that raises an exception (e.g., due to being cut-off)\n",
    "            print(f\"Error processing packet: {e}\")\n",
    "\n",
    "    await capture.close()\n",
    "    return gps_packets\n",
    "\n",
    "def main():\n",
    "    pcap_file = 'gps.pcap'  # Replace with your actual pcap file path\n",
    "\n",
    "    # Use asyncio to run the extract_gps_packets coroutine\n",
    "    loop = asyncio.get_event_loop()\n",
    "    gps_packets = loop.run_until_complete(extract_gps_packets(pcap_file))\n",
    "\n",
    "    # Output the GPS packets\n",
    "    for i, packet in enumerate(gps_packets):\n",
    "        print(f\"Packet {i}: {packet}\")\n",
    "\n",
    "if __name__ == \"__main__\":\n",
    "    main()"
   ]
  },
  {
   "cell_type": "code",
   "execution_count": null,
   "id": "442ac192-f203-4c8e-bfcc-bb37b0722474",
   "metadata": {},
   "outputs": [],
   "source": []
  }
 ],
 "metadata": {
  "kernelspec": {
   "display_name": "Python 3 (ipykernel)",
   "language": "python",
   "name": "python3"
  },
  "language_info": {
   "codemirror_mode": {
    "name": "ipython",
    "version": 3
   },
   "file_extension": ".py",
   "mimetype": "text/x-python",
   "name": "python",
   "nbconvert_exporter": "python",
   "pygments_lexer": "ipython3",
   "version": "3.11.7"
  }
 },
 "nbformat": 4,
 "nbformat_minor": 5
}
