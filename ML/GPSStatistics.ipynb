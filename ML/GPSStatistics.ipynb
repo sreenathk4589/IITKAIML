{
 "cells": [
  {
   "cell_type": "code",
   "execution_count": 40,
   "id": "e28c92ab-8fa0-4ed0-98cf-48d68c2721db",
   "metadata": {},
   "outputs": [],
   "source": [
    "import geopandas as gpd\n",
    "import matplotlib.pyplot as plt\n",
    "gpd.io.file.fiona.drvsupport.supported_drivers['KML'] = 'rw'"
   ]
  },
  {
   "cell_type": "code",
   "execution_count": 43,
   "id": "f2c9fcd0-0026-4350-a9c4-04f6085d07a2",
   "metadata": {},
   "outputs": [
    {
     "name": "stderr",
     "output_type": "stream",
     "text": [
      "C:\\Users\\sreenathk\\AppData\\Local\\Temp\\ipykernel_12924\\2293480176.py:6: UserWarning: The indices of the two GeoSeries are different.\n",
      "  d = links_gdf.frechet_distance(points_gdf, densify=0.05)\n",
      "C:\\Users\\sreenathk\\AppData\\Local\\Temp\\ipykernel_12924\\2293480176.py:6: UserWarning: Geometry is in a geographic CRS. Results from 'frechet_distance' are likely incorrect. Use 'GeoSeries.to_crs()' to re-project geometries to a projected CRS before this operation.\n",
      "\n",
      "  d = links_gdf.frechet_distance(points_gdf, densify=0.05)\n",
      "C:\\Users\\sreenathk\\AppData\\Local\\anaconda31\\Lib\\site-packages\\shapely\\measurement.py:269: RuntimeWarning: invalid value encountered in frechet_distance_densify\n",
      "  return lib.frechet_distance_densify(a, b, densify, **kwargs)\n"
     ]
    },
    {
     "data": {
      "text/plain": [
       "(array([ 3., 45., 43., 42., 36., 44., 32., 48., 21.,  2.]),\n",
       " array([0.08511748, 0.08954088, 0.09396428, 0.09838768, 0.10281108,\n",
       "        0.10723448, 0.11165787, 0.11608127, 0.12050467, 0.12492807,\n",
       "        0.12935147]),\n",
       " <BarContainer object of 10 artists>)"
      ]
     },
     "execution_count": 43,
     "metadata": {},
     "output_type": "execute_result"
    },
    {
     "data": {
      "image/png": "[encoded data removed]",
      "text/plain": [
       "<Figure size 640x480 with 1 Axes>"
      ]
     },
     "metadata": {},
     "output_type": "display_data"
    }
   ],
   "source": [
    "# points_gdf = gpd.read_file(\"points.gpkg\", layer='points')\n",
    "# d=[]\n",
    "points_gdf = gpd.read_file(\"Working_Vehicle_1_W610_Return_2_MRV.kml\", driver='KML')\n",
    "links_gdf = gpd.read_file(\"map.kml\",  driver='KML', layer='roads')\n",
    "# links_gdf.frechet_distance(points_gdf)\n",
    "d = links_gdf.frechet_distance(points_gdf, densify=0.05)\n",
    "plt.hist(d)\n",
    "# points_joined = gpd.sjoin_nearest(points_gdf, links_gdf, distance_col=\"dist\", how='left')"
   ]
  },
  {
   "cell_type": "code",
   "execution_count": 27,
   "id": "13fc73e0-ca04-43b4-82fb-bf2596ce5cdb",
   "metadata": {},
   "outputs": [
    {
     "data": {
      "text/html": [
       "<div>\n",
       "<style scoped>\n",
       "    .dataframe tbody tr th:only-of-type {\n",
       "        vertical-align: middle;\n",
       "    }\n",
       "\n",
       "    .dataframe tbody tr th {\n",
       "        vertical-align: top;\n",
       "    }\n",
       "\n",
       "    .dataframe thead th {\n",
       "        text-align: right;\n",
       "    }\n",
       "</style>\n",
       "<table border=\"1\" class=\"dataframe\">\n",
       "  <thead>\n",
       "    <tr style=\"text-align: right;\">\n",
       "      <th></th>\n",
       "      <th>Name</th>\n",
       "      <th>Description</th>\n",
       "      <th>geometry</th>\n",
       "    </tr>\n",
       "  </thead>\n",
       "  <tbody>\n",
       "    <tr>\n",
       "      <th>0</th>\n",
       "      <td></td>\n",
       "      <td></td>\n",
       "      <td>POINT Z (80.05222 12.62537 -48.00000)</td>\n",
       "    </tr>\n",
       "    <tr>\n",
       "      <th>1</th>\n",
       "      <td></td>\n",
       "      <td></td>\n",
       "      <td>POINT Z (80.05222 12.62537 -48.00000)</td>\n",
       "    </tr>\n",
       "    <tr>\n",
       "      <th>2</th>\n",
       "      <td></td>\n",
       "      <td></td>\n",
       "      <td>POINT Z (80.05222 12.62537 -48.00000)</td>\n",
       "    </tr>\n",
       "    <tr>\n",
       "      <th>3</th>\n",
       "      <td></td>\n",
       "      <td></td>\n",
       "      <td>POINT Z (80.05222 12.62537 -48.00000)</td>\n",
       "    </tr>\n",
       "    <tr>\n",
       "      <th>4</th>\n",
       "      <td></td>\n",
       "      <td></td>\n",
       "      <td>POINT Z (80.05222 12.62537 -48.00000)</td>\n",
       "    </tr>\n",
       "    <tr>\n",
       "      <th>...</th>\n",
       "      <td>...</td>\n",
       "      <td>...</td>\n",
       "      <td>...</td>\n",
       "    </tr>\n",
       "    <tr>\n",
       "      <th>5092</th>\n",
       "      <td></td>\n",
       "      <td></td>\n",
       "      <td>POINT Z (80.01524 12.72185 -38.60000)</td>\n",
       "    </tr>\n",
       "    <tr>\n",
       "      <th>5093</th>\n",
       "      <td></td>\n",
       "      <td></td>\n",
       "      <td>POINT Z (80.01524 12.72185 -38.60000)</td>\n",
       "    </tr>\n",
       "    <tr>\n",
       "      <th>5094</th>\n",
       "      <td></td>\n",
       "      <td></td>\n",
       "      <td>POINT Z (80.01524 12.72185 -38.60000)</td>\n",
       "    </tr>\n",
       "    <tr>\n",
       "      <th>5095</th>\n",
       "      <td></td>\n",
       "      <td></td>\n",
       "      <td>POINT Z (80.01524 12.72185 -38.60000)</td>\n",
       "    </tr>\n",
       "    <tr>\n",
       "      <th>5096</th>\n",
       "      <td></td>\n",
       "      <td></td>\n",
       "      <td>POINT Z (80.01524 12.72185 -38.60000)</td>\n",
       "    </tr>\n",
       "  </tbody>\n",
       "</table>\n",
       "<p>5097 rows × 3 columns</p>\n",
       "</div>"
      ],
      "text/plain": [
       "     Name Description                               geometry\n",
       "0                      POINT Z (80.05222 12.62537 -48.00000)\n",
       "1                      POINT Z (80.05222 12.62537 -48.00000)\n",
       "2                      POINT Z (80.05222 12.62537 -48.00000)\n",
       "3                      POINT Z (80.05222 12.62537 -48.00000)\n",
       "4                      POINT Z (80.05222 12.62537 -48.00000)\n",
       "...   ...         ...                                    ...\n",
       "5092                   POINT Z (80.01524 12.72185 -38.60000)\n",
       "5093                   POINT Z (80.01524 12.72185 -38.60000)\n",
       "5094                   POINT Z (80.01524 12.72185 -38.60000)\n",
       "5095                   POINT Z (80.01524 12.72185 -38.60000)\n",
       "5096                   POINT Z (80.01524 12.72185 -38.60000)\n",
       "\n",
       "[5097 rows x 3 columns]"
      ]
     },
     "execution_count": 27,
     "metadata": {},
     "output_type": "execute_result"
    }
   ],
   "source": [
    "links_gdf."
   ]
  },
  {
   "cell_type": "code",
   "execution_count": null,
   "id": "c238912c-4063-4df1-8cfe-fe723de6ad5f",
   "metadata": {},
   "outputs": [],
   "source": []
  }
 ],
 "metadata": {
  "kernelspec": {
   "display_name": "Python 3 (ipykernel)",
   "language": "python",
   "name": "python3"
  },
  "language_info": {
   "codemirror_mode": {
    "name": "ipython",
    "version": 3
   },
   "file_extension": ".py",
   "mimetype": "text/x-python",
   "name": "python",
   "nbconvert_exporter": "python",
   "pygments_lexer": "ipython3",
   "version": "3.11.7"
  }
 },
 "nbformat": 4,
 "nbformat_minor": 5
}
